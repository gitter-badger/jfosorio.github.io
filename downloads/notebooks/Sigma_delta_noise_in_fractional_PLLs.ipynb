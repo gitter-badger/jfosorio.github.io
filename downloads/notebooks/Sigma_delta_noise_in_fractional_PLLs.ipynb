{
 "metadata": {
  "name": "",
  "signature": "sha256:ec7f335385747bf7a6f5580b9e8b68ee3615fb8200aaae8f5d990eec74b0d41a"
 },
 "nbformat": 3,
 "nbformat_minor": 0,
 "worksheets": [
  {
   "cells": [
    {
     "cell_type": "heading",
     "level": 1,
     "metadata": {},
     "source": [
      "$\\Sigma-\\Delta$-modulator phase noise in fractional-N PLL's\n"
     ]
    },
    {
     "cell_type": "markdown",
     "metadata": {},
     "source": [
      "The first time that I needed to design a fractional-N PLL if took me  quite some time to gain confidence over the model I was using to calculate the phase noise produced by the $\\Sigma\\Delta$-modulators(SDM). The reason it took me so long is that there are a couple of mathematical pitfalls that are difficult to avoid at first. Many times I tough that a reference code would have made my life much simpler.\n",
      "\n",
      "This is one of those topics where a notebook including both theory and code seems particular appealing. This notebook is about that. This entry expose first the SDM theory in the first section, the second section shows how a mash SDM works and explain the model in Python and the last section show the results and the comparison with the theoretical model.  The SDM model is part of a more general package to design PLL's that is available in github."
     ]
    },
    {
     "cell_type": "heading",
     "level": 2,
     "metadata": {},
     "source": [
      "Linear phase noise analysis for the excess of phase noise at the output of a fractional divider using a $\\Sigma-\\Delta$ modulator "
     ]
    },
    {
     "cell_type": "markdown",
     "metadata": {},
     "source": [
      "The circuit in figure 1 implements the fractional division of input $f_{in}$  by the fractional\n",
      "period defined by $N+f(z)$ using a SDM. As it is difficult to design a reliable circuit that divides a input frequency by a fractional number a integer divider with a division factor that is in average the desired value is used. As this operation introduces unwanted phase changes in the output signal we are interested in finding the power spectral density of these disturbances.\n",
      "<br>\n",
      "<img src=\"/images/fractional_divider.png\" alt=\"Fractional divider\" height=400px/>\n",
      "<center> Figure 1. Topology of a fractional divider made with a SDM </center>\n",
      "<br>"
     ]
    },
    {
     "cell_type": "code",
     "collapsed": false,
     "input": [
      "# Add the path with the pnoise and pll modules \n",
      "import sys\n",
      "sys.path.append('../')\n",
      "\n",
      "# Prepare for ploting\n",
      "import matplotlib\n",
      "import matplotlib.pyplot as plt\n",
      "font = {'size'   : 12}\n",
      "matplotlib.rc('font', **font)\n",
      "matplotlib.rc('axes',labelsize=13)\n",
      "\n",
      "# Array fast operation\n",
      "import numpy as np\n",
      "from numpy import ones, pi, log10\n",
      "\n",
      "# Signal processing routines\n",
      "\n",
      "import scipy.signal as sig"
     ],
     "language": "python",
     "metadata": {},
     "outputs": [],
     "prompt_number": 1
    },
    {
     "cell_type": "markdown",
     "metadata": {},
     "source": [
      "\n",
      "The instantaneous frequency division is given by:\n",
      "\n",
      "\n",
      "$$\\begin{equation}\n",
      "    N_{div}(z) = N+f(z)+H_{s}(z) \\Delta_{q}(z),\n",
      "\\end{equation}$$\n",
      "\n",
      "Where $N$ is that integer part of the division ratio, $f(z)$ is the fractional part, and \n",
      "$H_s(z) \\Delta_{q}(z)$ is the instantaneous error made by a SDM of order m. The instantaneous noise of the SDM has to components $\\Delta_{q}(z)$ is the quantization noise and the term $H_s(z)$ is the noise shaping transfer function.  \n",
      "\n",
      "The output frequency of the SD modulator is given by: \n",
      "\n",
      "$$\\begin{equation}\n",
      "    f_{div}(z) = \\cfrac{f_{in}}{N+f(z)+H_s(z) \\Delta_{q}(z)},\n",
      "\\end{equation}$$\n",
      "\n",
      "that can be simplify, using the approximation $\\cfrac{1}{1+x} \\approx  1-x \\: \\text{for } x << 1$, as:\n",
      "\n",
      "$$\n",
      "    f_{div}(z) = \\cfrac{f_{in}}{N+f(z)}\\left(1 - \\cfrac{H_s(z) \\Delta_{q}(z)}{N+f(z)}\\right),\n",
      "$$\n",
      "\n",
      "As $\\cfrac{f_{in}}{N+f(z)}$ equals the target frequency, which in a PLL is the reference frequency   $f_{ref}$, the frequency error as a function of the target frequency equals:\n",
      "\n",
      "$$\n",
      "    \\Delta_{f_{div}}(z) = - f_{ref} \\cfrac{ H_s(z) \\Delta_{q}(z)}{N+f(z)}.\n",
      "$$\n",
      "\n",
      "The power spectral density of the quantization noise can be approximated using a similar assumption than the one used to calculate the spectrum of the quantization noise of a ADC. In the case of a SDM the phase error increases linearly during a single period of the reference until it reaches the minimum integer division ratio of the divider. For a divider with a minimum step of one the quantization noise rms value can be approximated by:\n",
      "\n",
      "$$\n",
      "    \\Delta_{q,rms} = \\frac{1}{12} (rad, rms),\n",
      "$$\n",
      "\n",
      "this noise is uniformly distributed over Nyquist bandwidth of the sampler than in the case of a PLL is $f_{ref}/2$. Then the noise power spectral density of the sampling noise is given by:\n",
      "\n",
      "$$\n",
      "    \\Delta_{q}^2 = \\frac{1}{6 f_{ref}} (rad^2/Hz). \n",
      "$$\n",
      "\n",
      "The other aspect that needs to be accounted for, in order to find a close expression for the phase noise, is the shaping of the SDM, for Mash-1-1-1 SDM this is given by[1]:\n",
      "\n",
      "$$\n",
      "    H_s(z)= (1-z^{-1})^m, \n",
      "$$\n",
      "\n",
      "where m is the SDM order. \n",
      "\n",
      "With this elements in place it is possible to have a better expression for the error made approximating the frequency thus:\n",
      "\n",
      "$$\n",
      "    \\Delta_{f_{div}}(z)^2 =  \\left|f_{ref} \\cfrac{ (1-z^{-1})^m}{N+f(z)}\\right|^2 \\cfrac{1}{6 f_{ref}}.\n",
      "$$\n",
      "\n",
      "As it happens we are interesting in the phase, so integrating the last expression in the z-domain we have: \n",
      "\n",
      "$$\n",
      "\\Phi_{div}(z) = \\frac{2 \\pi T_{ref} \\Delta_{f_{div}}(z)}{1-z^{-1}},\n",
      "$$\n",
      "\n",
      "that putting everything together ends being:\n",
      "    \n",
      "$$\n",
      "\\Phi_{div}(z)^2 = \\frac{(2 \\pi)^2}{6 f_{ref}} \\frac{|1-z^{-1}|^{2m-1}}{(N+f(z))^2}(Rad^2/Hz)\n",
      "$$\n",
      "\n",
      "\n",
      "by definition $\\mathcal{L}(z)= \\Phi_{div}(z)^2/2$ the phase noise is given by: \n",
      "\n",
      "$$\n",
      "\t\\mathcal{L}(z) = \\frac{(2 \\pi)^2}{12 f_{ref}} \\frac{|1-z^{-1}|^{2m-1}}{(N+f(z))^2}(Rad^2/Hz),\n",
      "$$\n",
      "\n",
      "that can be replaced by a more useful expression replacing $z$ by $e^{sT_{ref}}$ and calling the frequency $f_m$ to emphasis that this is the frequency offset due to the modulation:\n",
      "\n",
      "$$\n",
      "  \\mathcal{L}(f_m) = \\frac{(2 \\pi)^2}{12 f_{ref}} \\cfrac{[2 sin(\\pi f_m/ f_{ref})]^{2(m-1)}}{(N+f(z))^2}.\n",
      "$$\n",
      "\n",
      "As presented here this is the noise at the output of the divider, normally in previous references [1] and [2] the noise is scaled to the divider output, that is multiplying the last equation by $(N+f(z))^2$."
     ]
    },
    {
     "cell_type": "heading",
     "level": 2,
     "metadata": {},
     "source": [
      "Using the pnoise module and the sdmod to simulate a SDM"
     ]
    },
    {
     "cell_type": "markdown",
     "metadata": {},
     "source": [
      "Within the [plldesigner](https://github.com/jfosorio/plldesigner) project two modules implement a class for adding pnoise frequency domain signals and and create sequences of SDM's.\n",
      "\n",
      "The sigma delta modulator is implemented by an algorithm that uses a counter that add every time the input word K and overflows when the value reaches MAX value that is equivalent in to the maximum value of a register, that is: $2^N-1$. The next example shows how a first order modulator is implemented:"
     ]
    },
    {
     "cell_type": "markdown",
     "metadata": {},
     "source": [
      "``` python:\n",
      "k = round(Nfloat*2**N)\n",
      "for j in arange(0, L):\n",
      "    state = state + k[j - 1]\n",
      "    if state > _maxvalue:\n",
      "        over = 1\n",
      "        state -= _maxvalue + 1\n",
      "    else:\n",
      "        over = 0\n",
      "        sd[j] = over\n",
      "```"
     ]
    },
    {
     "cell_type": "markdown",
     "metadata": {},
     "source": [
      "The implementation of first, second and third order Sigma-delta modulators can be found in: [plldesigner](https://github.com/jfosorio/plldesigner)"
     ]
    },
    {
     "cell_type": "code",
     "collapsed": false,
     "input": [
      "# Load the pnoise and SDM modules\n",
      "import pnoise as pn\n",
      "import sdmod"
     ],
     "language": "python",
     "metadata": {},
     "outputs": [],
     "prompt_number": 2
    },
    {
     "cell_type": "heading",
     "level": 3,
     "metadata": {},
     "source": [
      "Creating a SDM sequence with gen_mash"
     ]
    },
    {
     "cell_type": "markdown",
     "metadata": {},
     "source": [
      "In order to create a 1-1-1 Mash sequence the gen_mash function was created in the sdmod module. The function has as inputs, the order of the modulator m, number of bits of the accumulator and the\n",
      "input vector $k[n]$. The following code shows the sequence created by a SDM of third order."
     ]
    },
    {
     "cell_type": "code",
     "collapsed": false,
     "input": [
      "# Parameters \n",
      "NsdBits = 19\n",
      "fref = 27.6e6\n",
      "Tref = 1.0/fref\n",
      "\n",
      "# Create a SDM sequency \n",
      "fracnum = ((0.253232*2**NsdBits)*ones(100000)).astype(int)\n",
      "sd, per = sdmod.gen_mash(3,NsdBits,fracnum)\n",
      "plt.step(np.r_[0:200],sd[:200]);\n",
      "plt.xlabel('steps') #x label\n",
      "plt.ylabel('$\\Delta N$') #y label\n",
      "print(\"Mean value of the sequence: {:2.6f}\\n\".format(sd.mean()))"
     ],
     "language": "python",
     "metadata": {},
     "outputs": [
      {
       "output_type": "stream",
       "stream": "stdout",
       "text": [
        "Mean value of the sequence: 0.253230\n",
        "\n"
       ]
      },
      {
       "metadata": {},
       "output_type": "display_data",
       "png": "[encoded data removed]",
       "text": [
        "<matplotlib.figure.Figure at 0x1040279d0>"
       ]
      }
     ],
     "prompt_number": 3
    },
    {
     "cell_type": "markdown",
     "metadata": {},
     "source": [
      "The phase error $\\phi_{out}[n]$ can be calculated accumulating the error in the frequency. Then the power spectrum density is estimated with the [welch periodogram](http://docs.scipy.org/doc/scipy-dev/reference/generated/scipy.signal.welch.html)."
     ]
    },
    {
     "cell_type": "code",
     "collapsed": false,
     "input": [
      "# Phi_er at the output equals \\sum{\\DeltaN*fref}*Tref\n",
      "phi_div = 2*pi*(sd-fracnum[0]/2**NsdBits).cumsum()\n",
      "\n",
      "# Calculate the spectrum\n",
      "npoints = 2**7\n",
      "f, Phi2_div = sig.welch(phi_div, fref, window='blackman', nperseg=npoints)\n",
      "rbw = fref/2/(len(f)-1)\n",
      "ind = (f>1e5) & (f<1e9)\n",
      "sim = pn.Pnoise(f[ind],10*log10(Phi2_div[ind]/2), label='simulated')\n",
      "\n",
      "# calcualte the L teorical\n",
      "Ltheory = sdmod.L_mash_dB(3,f[ind],fref)\n",
      "theory = pn.Pnoise(f[ind],Ltheory, label='theoretical')\n",
      "\n",
      "# Calculate the integral value of the two\n",
      "print('''\n",
      "Integrated phase noise\n",
      "======================\n",
      "Theory: {:2.3f} (rad,rms)\n",
      "Sim   : {:2.3f} (rad,rms)'''.format(theory.integrate(),sim.integrate()))\n",
      "\n",
      "# plot both the spectrums\n",
      "sim.plot('o-')\n",
      "ax = theory.plot()\n",
      "plt.legend(bbox_to_anchor=(1.05, 1), loc=2)\n",
      "plt.title('RBW: {:2.3f} (KHz)'.format(rbw/1e3))\n",
      "plt.ylim([-140,-40])\n",
      "plt.grid(True)\n"
     ],
     "language": "python",
     "metadata": {},
     "outputs": [
      {
       "output_type": "stream",
       "stream": "stdout",
       "text": [
        "\n",
        "Integrated phase noise\n",
        "======================\n",
        "Theory: 4.443 (rad,rms)\n",
        "Sim   : 4.427 (rad,rms)\n"
       ]
      },
      {
       "metadata": {},
       "output_type": "display_data",
       "png": "[encoded data removed]",
       "text": [
        "<matplotlib.figure.Figure at 0x107bc3310>"
       ]
      }
     ],
     "prompt_number": 4
    },
    {
     "cell_type": "heading",
     "level": 2,
     "metadata": {},
     "source": [
      "Non-linear behavior of the $\\Sigma-\\Delta$ modulator"
     ]
    },
    {
     "cell_type": "markdown",
     "metadata": {},
     "source": [
      "The previous theory fails to predict spurs that can occur when the input is a rational number.  This is demonstrated using the same SDM but with a input equivalent to 1/8. It is important to understand these spurs as they can fall in band after they are folded back by the non-linearity of the CP and the PFD."
     ]
    },
    {
     "cell_type": "code",
     "collapsed": false,
     "input": [
      "# Fraction number\n",
      "fracnum = (2/8*2**NsdBits)*ones(100000)\n",
      "\n",
      "# Produce the SDM sequence\n",
      "sd, per = sdmod.gen_mash(3,NsdBits,fracnum)\n",
      "\n",
      "# Calculate the phase error and its PSD\n",
      "phi_div = 2*pi*(sd-fracnum[0]/2**NsdBits).cumsum()\n",
      "f, Phi2_div = sig.welch(phi_div, fref, window=\"blackman\", nperseg=npoints)\n",
      "sim = pn.Pnoise(f[ind],10*log10(Phi2_div[ind]/2), label='simulated')\n",
      "\n",
      "# plot the sequence\n",
      "plt.step(np.r_[0:200],sd[:200])\n",
      "plt.xlabel('steps') #x label\n",
      "plt.ylabel('$\\Delta N$') #y label\n",
      "\n",
      "print(\"Mean value of the sequence: {:2.5f}\\n\".format(sd.mean()))"
     ],
     "language": "python",
     "metadata": {},
     "outputs": [
      {
       "output_type": "stream",
       "stream": "stdout",
       "text": [
        "Mean value of the sequence: 0.25000\n",
        "\n"
       ]
      },
      {
       "metadata": {},
       "output_type": "display_data",
       "png": "[encoded data removed]",
       "text": [
        "<matplotlib.figure.Figure at 0x108013410>"
       ]
      }
     ],
     "prompt_number": 5
    },
    {
     "cell_type": "code",
     "collapsed": false,
     "input": [
      "#Plot the power spectrum density\n",
      "sim.plot('o-')\n",
      "theory.plot()\n",
      "plt.legend(bbox_to_anchor=(1.05, 1), loc=2)\n",
      "plt.title('RBW: {:2.3f} (KHz)'.format(rbw/1e3))\n",
      "plt.ylim([-130,-40])\n",
      "plt.grid(True)"
     ],
     "language": "python",
     "metadata": {},
     "outputs": [
      {
       "metadata": {},
       "output_type": "display_data",
       "png": "[encoded data removed]",
       "text": [
        "<matplotlib.figure.Figure at 0x1080266d0>"
       ]
      }
     ],
     "prompt_number": 6
    },
    {
     "cell_type": "markdown",
     "metadata": {},
     "source": [
      "The spurs appearance and amplitude depend both of the input word and the initial state of the registers of the modulator [3]. It can be that initializing the first register of the first register of the SDM creates enough dithering to reduce the spurs The gen_mash accepts a fourth argument to initialize the mash registers. This argument is a tuple with a number of elements that equals the order of the SDM."
     ]
    },
    {
     "cell_type": "code",
     "collapsed": false,
     "input": [
      "sd, per = sdmod.gen_mash(3,NsdBits,fracnum,(1,0,0))\n",
      "\n",
      "# Calculate the phase error and its PSD\n",
      "phi_div = 2*pi*(sd-fracnum[0]/2**NsdBits).cumsum()\n",
      "f, Phi2_div = sig.welch(phi_div, fref, window=\"blackman\", nperseg=npoints)\n",
      "sim = pn.Pnoise(f[ind],10*log10(Phi2_div[ind]/2), label='simulated')\n",
      "\n",
      "# plot the sequence\n",
      "plt.step(np.r_[0:200],sd[:200])\n",
      "plt.xlabel('steps') #x label\n",
      "plt.ylabel('$\\Delta N$') #y label\n",
      "print(\"Mean value of the sequence: {:2.5f}\\n\".format(sd.mean()))"
     ],
     "language": "python",
     "metadata": {},
     "outputs": [
      {
       "output_type": "stream",
       "stream": "stdout",
       "text": [
        "Mean value of the sequence: 0.25001\n",
        "\n"
       ]
      },
      {
       "metadata": {},
       "output_type": "display_data",
       "png": "[encoded data removed]",
       "text": [
        "<matplotlib.figure.Figure at 0x10839c2d0>"
       ]
      }
     ],
     "prompt_number": 7
    },
    {
     "cell_type": "code",
     "collapsed": false,
     "input": [
      "#Plot the power spectrum density\n",
      "sim.plot('o-')\n",
      "theory.plot()\n",
      "plt.legend(bbox_to_anchor=(1.05, 1), loc=2)\n",
      "plt.title('RBW: {:2.3f} (KHz)'.format(rbw/1e3))\n",
      "plt.ylim([-130,-40])\n",
      "plt.grid(True)"
     ],
     "language": "python",
     "metadata": {},
     "outputs": [
      {
       "metadata": {},
       "output_type": "display_data",
       "png": "[encoded data removed]",
       "text": [
        "<matplotlib.figure.Figure at 0x107d6ea50>"
       ]
      }
     ],
     "prompt_number": 8
    },
    {
     "cell_type": "heading",
     "level": 2,
     "metadata": {},
     "source": [
      "Conclution"
     ]
    },
    {
     "cell_type": "markdown",
     "metadata": {},
     "source": [
      "With this entry I revisited the theory of SD modulators using a module written in Python. The fundamental aspects of Mash SDM modulators are explained and documented. To analyse the output I used the nice Scipy library.  In this way, and with the help of the Ipython notebook, the linear theory of mash SDM and its limitations are well documented and results are easily replicated.\n",
      "\n",
      "This shows a bit what would be the intention with the plldesigner toolkit. This a project that I have been developing and aims to add specific functionality to the numpy+scipy+ipython ecosystem to simulate and model PLL's.\n",
      "\n",
      "\n"
     ]
    },
    {
     "cell_type": "heading",
     "level": 2,
     "metadata": {},
     "source": [
      "References"
     ]
    },
    {
     "cell_type": "markdown",
     "metadata": {},
     "source": [
      "1. B. Miller and R. J. Conley, \u201cA multiple modulator fractional divider,\u201d IEEE Transactions on Instrumentation and Measurement, vol. 40, no. 3, pp. 578\u2013583, 1991.\n",
      "\n",
      "2. T. A. D. Riley, M. A. Copeland, and T. A. Kwasniewski, \u201cDelta-sigma modulation in fractional-N frequency synthesis,\u201d IEEE Journal of Solid-State Circuits, vol. 28, no. 5, pp. 553\u2013559, May 1993.\n",
      "\n",
      "3. Kozak, M., Kale, I., \"Rigorous analysis of delta-sigma modulators for fractional-N PLL frequency synthesis,\" IEEE Transactions on Circuits and Systems I: Regular Papers 51, 1148\u20131162, 2004. (doi:10.1109/TCSI.2004.829308)"
     ]
    },
    {
     "cell_type": "heading",
     "level": 2,
     "metadata": {},
     "source": [
      "Changes"
     ]
    },
    {
     "cell_type": "markdown",
     "metadata": {},
     "source": [
      "After publication some changes have been made:\n",
      "\n",
      "- The text was corrected, although not perfect is definitely more readable.\n",
      "\n",
      "- The pnoise class was renamed to be Pnoise, according with Python conventions, so the notebook was updated accordingly.\n",
      "\n",
      "- The notebook imports pylab as \"from pylab import *\", what I consider is the best practice in a Notebook were clarity is more desired than follow software writing best practices.\n",
      "\n",
      "- Some equations that were not displayed correctly were corrected. "
     ]
    }
   ],
   "metadata": {}
  }
 ]
}